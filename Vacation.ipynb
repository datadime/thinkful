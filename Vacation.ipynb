{
  "nbformat": 4,
  "nbformat_minor": 0,
  "metadata": {
    "colab": {
      "name": "DS Your Vacation.ipynb",
      "version": "0.3.2",
      "provenance": [],
      "collapsed_sections": [],
      "include_colab_link": true
    },
    "kernelspec": {
      "name": "python3",
      "display_name": "Python 3"
    }
  },
  "cells": [
    {
      "cell_type": "markdown",
      "metadata": {
        "id": "view-in-github",
        "colab_type": "text"
      },
      "source": [
        "<a href=\"https://colab.research.google.com/github/datadime/thinkful/blob/master/Vacation.ipynb\" target=\"_parent\"><img src=\"https://colab.research.google.com/assets/colab-badge.svg\" alt=\"Open In Colab\"/></a>"
      ]
    },
    {
      "metadata": {
        "id": "nWxx6fOTpZHi",
        "colab_type": "code",
        "colab": {}
      },
      "cell_type": "code",
      "source": [
        "import pandas as pd\n",
        "import numpy as np\n",
        "import matplotlib.pyplot as plt\n",
        "import scipy\n",
        "import sklearn\n",
        "import seaborn as sns\n",
        "import re\n",
        "from collections import Counter\n",
        "# allow us to visualize in the notebook\n",
        "%matplotlib inline"
      ],
      "execution_count": 0,
      "outputs": []
    },
    {
      "metadata": {
        "id": "bQ6wSzd0p7Uz",
        "colab_type": "text"
      },
      "cell_type": "markdown",
      "source": [
        "#**Hotel Review Workshop Notebook**\n",
        "\n",
        "\n",
        "This notebook will guide you through the creation of a simple bag of words model for text matching."
      ]
    },
    {
      "metadata": {
        "id": "CFdCuULiHWQd",
        "colab_type": "text"
      },
      "cell_type": "markdown",
      "source": [
        "you can specify the type of encoding while reading the dataset"
      ]
    },
    {
      "metadata": {
        "id": "4U7q1yZopdv0",
        "colab_type": "code",
        "colab": {}
      },
      "cell_type": "code",
      "source": [
        "# Import the Data Set.\n",
        "data = pd.read_csv('https://github.com/Thinkful-Ed/data-201-resources/raw/master/hotel-reviews.csv')"
      ],
      "execution_count": 0,
      "outputs": []
    },
    {
      "metadata": {
        "id": "DdBk12kNFgWs",
        "colab_type": "text"
      },
      "cell_type": "markdown",
      "source": [
        "# Data.[tab] will give you all the options you can use to explore your data using data. command\n"
      ]
    },
    {
      "metadata": {
        "id": "aaiWwiFCz52K",
        "colab_type": "code",
        "colab": {}
      },
      "cell_type": "code",
      "source": [
        "data.head(5)"
      ],
      "execution_count": 0,
      "outputs": []
    },
    {
      "metadata": {
        "id": "4xLak2RPFEaE",
        "colab_type": "code",
        "colab": {}
      },
      "cell_type": "code",
      "source": [
        "data.shape"
      ],
      "execution_count": 0,
      "outputs": []
    },
    {
      "metadata": {
        "id": "3MbZ7ruMF24c",
        "colab_type": "text"
      },
      "cell_type": "markdown",
      "source": [
        "# Use triple quotes to do multiline comment. \n",
        "\"\"\"\n",
        "text or code\n",
        "\"\"\""
      ]
    },
    {
      "metadata": {
        "id": "0RKG-AZ9pgHj",
        "colab_type": "code",
        "colab": {}
      },
      "cell_type": "code",
      "source": [
        "# Perform some basic cleaning and character removal.\n",
        "\n",
        "# Make everything lower case.\n",
        "data['reviews.text'] = data['reviews.text'].str.lower()\n",
        "\n",
        "# Remove non-text characters.\n",
        "data['reviews.text'] = data['reviews.text'].str.replace(r'\\.|\\!|\\?|\\'|,|-|\\(|\\)', \"\",)\n",
        "\n",
        "# Fill in blank reviews with '' rather than Null (which would give us errors).\n",
        "data['reviews.text'] = data['reviews.text'].fillna('')"
      ],
      "execution_count": 0,
      "outputs": []
    },
    {
      "metadata": {
        "id": "fx6bJ3I70zff",
        "colab_type": "code",
        "colab": {}
      },
      "cell_type": "code",
      "source": [
        "data.head()"
      ],
      "execution_count": 0,
      "outputs": []
    },
    {
      "metadata": {
        "id": "ZAt9U7JBpiRs",
        "colab_type": "code",
        "colab": {}
      },
      "cell_type": "code",
      "source": [
        "# Import and initiate a vectorizer.\n",
        "from sklearn.feature_extraction.text import CountVectorizer\n",
        "\n",
        "# The max features is how many words we want to allow us to create columns for.\n",
        "vectorizer = CountVectorizer(max_features=5000)"
      ],
      "execution_count": 0,
      "outputs": []
    },
    {
      "metadata": {
        "id": "8dLDUo5Zpkmb",
        "colab_type": "code",
        "colab": {}
      },
      "cell_type": "code",
      "source": [
        "# Vectorize our reviews to transform sentences into columns.\n",
        "X = vectorizer.fit_transform(data['reviews.text'])\n",
        "\n",
        "# And then put all of that in a table.\n",
        "bag_of_words = pd.DataFrame(X.toarray(), columns=vectorizer.get_feature_names())"
      ],
      "execution_count": 0,
      "outputs": []
    },
    {
      "metadata": {
        "id": "l9kWctK5ISsX",
        "colab_type": "code",
        "colab": {}
      },
      "cell_type": "code",
      "source": [
        "bag_of_words.head(3)"
      ],
      "execution_count": 0,
      "outputs": []
    },
    {
      "metadata": {
        "id": "wXrKYQBbpmPM",
        "colab_type": "code",
        "colab": {}
      },
      "cell_type": "code",
      "source": [
        "# Rename some columns for clarity.\n",
        "data.rename(columns={'address': 'hotel_address', 'city': 'hotel_city',\n",
        "                     'country':'hotel_country', 'name':'hotel_name'},\n",
        "            inplace=True)\n",
        "\n",
        "# Join our bag of words back to our initial hotel data.\n",
        "full_df = data.join(bag_of_words)"
      ],
      "execution_count": 0,
      "outputs": []
    },
    {
      "metadata": {
        "id": "zXq4WThNpn2z",
        "colab_type": "code",
        "colab": {}
      },
      "cell_type": "code",
      "source": [
        "# X is our words.\n",
        "X = bag_of_words\n",
        "\n",
        "# Y is our hotel name (the outcome we care about).\n",
        "Y_hotel = data['hotel_name']"
      ],
      "execution_count": 0,
      "outputs": []
    },
    {
      "metadata": {
        "id": "FTFGYhXVppXT",
        "colab_type": "code",
        "colab": {
          "base_uri": "https://localhost:8080/",
          "height": 170
        },
        "outputId": "1bd93339-67a8-4b84-dd91-6c6f10e19277"
      },
      "cell_type": "code",
      "source": [
        "# Import a random forest model.\n",
        "from sklearn.ensemble import RandomForestClassifier\n",
        "rfc = RandomForestClassifier()\n",
        "\n",
        "# Fit that random forest model to our data.\n",
        "rfc.fit(X,Y_hotel)"
      ],
      "execution_count": 20,
      "outputs": [
        {
          "output_type": "stream",
          "text": [
            "/usr/local/lib/python3.6/dist-packages/sklearn/ensemble/forest.py:246: FutureWarning: The default value of n_estimators will change from 10 in version 0.20 to 100 in 0.22.\n",
            "  \"10 in version 0.20 to 100 in 0.22.\", FutureWarning)\n"
          ],
          "name": "stderr"
        },
        {
          "output_type": "execute_result",
          "data": {
            "text/plain": [
              "RandomForestClassifier(bootstrap=True, class_weight=None, criterion='gini',\n",
              "            max_depth=None, max_features='auto', max_leaf_nodes=None,\n",
              "            min_impurity_decrease=0.0, min_impurity_split=None,\n",
              "            min_samples_leaf=1, min_samples_split=2,\n",
              "            min_weight_fraction_leaf=0.0, n_estimators=10, n_jobs=None,\n",
              "            oob_score=False, random_state=None, verbose=0,\n",
              "            warm_start=False)"
            ]
          },
          "metadata": {
            "tags": []
          },
          "execution_count": 20
        }
      ]
    },
    {
      "metadata": {
        "id": "Tu3zLX4LqC-c",
        "colab_type": "text"
      },
      "cell_type": "markdown",
      "source": [
        "# If you want to run a different test review, start from here."
      ]
    },
    {
      "metadata": {
        "id": "FzhMrHanprBj",
        "colab_type": "code",
        "colab": {}
      },
      "cell_type": "code",
      "source": [
        "# Write your own dream vacation review here...\n",
        "test_review = ['''\n",
        "    I loved the beach and the sunshine and the clean and modern room.\n",
        "    ''']"
      ],
      "execution_count": 0,
      "outputs": []
    },
    {
      "metadata": {
        "id": "7GzGD4Vtptcs",
        "colab_type": "code",
        "colab": {}
      },
      "cell_type": "code",
      "source": [
        "# Convert your test review into a vector.\n",
        "X_test = vectorizer.transform(test_review).toarray()"
      ],
      "execution_count": 0,
      "outputs": []
    },
    {
      "metadata": {
        "id": "7tE0DcTTpu1r",
        "colab_type": "code",
        "colab": {}
      },
      "cell_type": "code",
      "source": [
        "# Match your review.\n",
        "prediction = rfc.predict(X_test)[0]"
      ],
      "execution_count": 0,
      "outputs": []
    },
    {
      "metadata": {
        "id": "w7TxmCbRpwrT",
        "colab_type": "code",
        "colab": {
          "base_uri": "https://localhost:8080/",
          "height": 80
        },
        "outputId": "1c8cf80b-1911-4eaf-9538-76c1f49290cb"
      },
      "cell_type": "code",
      "source": [
        "# Return the essential information about your match.\n",
        "data[data['hotel_name'] == prediction][['hotel_name', 'hotel_address', \n",
        "                                        'hotel_city', 'hotel_country']].head(1)"
      ],
      "execution_count": 26,
      "outputs": [
        {
          "output_type": "execute_result",
          "data": {
            "text/html": [
              "<div>\n",
              "<style scoped>\n",
              "    .dataframe tbody tr th:only-of-type {\n",
              "        vertical-align: middle;\n",
              "    }\n",
              "\n",
              "    .dataframe tbody tr th {\n",
              "        vertical-align: top;\n",
              "    }\n",
              "\n",
              "    .dataframe thead th {\n",
              "        text-align: right;\n",
              "    }\n",
              "</style>\n",
              "<table border=\"1\" class=\"dataframe\">\n",
              "  <thead>\n",
              "    <tr style=\"text-align: right;\">\n",
              "      <th></th>\n",
              "      <th>hotel_name</th>\n",
              "      <th>hotel_address</th>\n",
              "      <th>hotel_city</th>\n",
              "      <th>hotel_country</th>\n",
              "    </tr>\n",
              "  </thead>\n",
              "  <tbody>\n",
              "    <tr>\n",
              "      <th>33706</th>\n",
              "      <td>Casa Del Mar Inn Bandb</td>\n",
              "      <td>18 Bath St</td>\n",
              "      <td>Santa Barbara</td>\n",
              "      <td>US</td>\n",
              "    </tr>\n",
              "  </tbody>\n",
              "</table>\n",
              "</div>"
            ],
            "text/plain": [
              "                   hotel_name hotel_address     hotel_city hotel_country\n",
              "33706  Casa Del Mar Inn Bandb    18 Bath St  Santa Barbara            US"
            ]
          },
          "metadata": {
            "tags": []
          },
          "execution_count": 26
        }
      ]
    }
  ]
}